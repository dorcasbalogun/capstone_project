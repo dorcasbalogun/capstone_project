{
 "cells": [
  {
   "cell_type": "markdown",
   "metadata": {},
   "source": [
    "## Split the dataset into Train and Validation"
   ]
  },
  {
   "cell_type": "code",
   "execution_count": 2,
   "metadata": {},
   "outputs": [],
   "source": [
    "import os\n",
    "import shutil\n",
    "import random\n",
    "\n",
    "breed_path = \"plant/train/\"\n",
    "# empty directory for the validation datasets\n",
    "valid_path = \"plant/valid/\"\n",
    "\n",
    "# validation\n",
    "list_breed = os.listdir(breed_path)\n",
    "for i in list_breed:\n",
    "    list_plant = os.listdir(breed_path + i)\n",
    "    no = round(0.2 * len(list_plant))\n",
    "    \n",
    "    valid = random.sample(list_plant, no)\n",
    "    os.mkdir(valid_path+i)\n",
    "    for k in valid:\n",
    "        shutil.move(breed_path+i+'/'+ k, valid_path+i)"
   ]
  },
  {
   "cell_type": "code",
   "execution_count": null,
   "metadata": {},
   "outputs": [],
   "source": []
  }
 ],
 "metadata": {
  "kernelspec": {
   "display_name": "Python 3",
   "language": "python",
   "name": "python3"
  },
  "language_info": {
   "codemirror_mode": {
    "name": "ipython",
    "version": 3
   },
   "file_extension": ".py",
   "mimetype": "text/x-python",
   "name": "python",
   "nbconvert_exporter": "python",
   "pygments_lexer": "ipython3",
   "version": "3.5.2"
  }
 },
 "nbformat": 4,
 "nbformat_minor": 2
}
