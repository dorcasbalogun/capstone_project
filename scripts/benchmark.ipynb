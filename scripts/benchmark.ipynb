{
 "cells": [
  {
   "cell_type": "markdown",
   "metadata": {},
   "source": [
    "## Benchmark Model"
   ]
  },
  {
   "cell_type": "markdown",
   "metadata": {},
   "source": [
    "### Import Dataset"
   ]
  },
  {
   "cell_type": "code",
   "execution_count": 4,
   "metadata": {},
   "outputs": [
    {
     "name": "stdout",
     "output_type": "stream",
     "text": [
      "There are 12 total plant categories.\n",
      "There are 3801 training plant images.\n",
      "There are 949 validation plant images.\n"
     ]
    }
   ],
   "source": [
    "from sklearn.datasets import load_files       \n",
    "from keras.utils import np_utils\n",
    "import numpy as np\n",
    "from glob import glob\n",
    "\n",
    "# define function to load train and validation datasets\n",
    "breed_path = \"plant/train/\"\n",
    "valid_path = \"plant/valid/\"\n",
    "\n",
    "def load_dataset(path):\n",
    "    data = load_files(path)\n",
    "    plant_files = np.array(data['filenames'])\n",
    "    plant_targets = np_utils.to_categorical(np.array(data['target']), 12)\n",
    "    return plant_files, plant_targets\n",
    "\n",
    "# load train and validation datasets\n",
    "train_files, train_targets = load_dataset(breed_path)\n",
    "valid_files, valid_targets = load_dataset(valid_path)\n",
    "\n",
    "\n",
    "# load list of plant names\n",
    "plant_names = [item[28:-1] for item in sorted(glob(breed_path+\"*/\"))]\n",
    "\n",
    "# print statistics about the dataset\n",
    "print('There are %d total plant categories.' % len(plant_names))\n",
    "print('There are %d training plant images.' % len(train_files))\n",
    "print('There are %d validation plant images.' % len(valid_files))"
   ]
  },
  {
   "cell_type": "markdown",
   "metadata": {},
   "source": [
    "### Pre-process the Data"
   ]
  },
  {
   "cell_type": "code",
   "execution_count": 3,
   "metadata": {},
   "outputs": [],
   "source": [
    "from keras.applications.resnet50 import ResNet50, preprocess_input, decode_predictions\n",
    "from keras.preprocessing import image\n",
    "from keras.layers import Input, Flatten, Dense\n",
    "from keras.models import Model\n",
    "import numpy as np\n",
    "from tqdm import tqdm\n",
    "from PIL import ImageFile    \n",
    "\n",
    "\n",
    "def path_to_tensor(img_path):\n",
    "    # loads RGB image as PIL.Image.Image type\n",
    "    img = image.load_img(img_path, target_size=(224, 224))\n",
    "    # convert PIL.Image.Image type to 3D tensor with shape (224, 224, 3)\n",
    "    x = image.img_to_array(img)\n",
    "    # convert 3D tensor to 4D tensor with shape (1, 224, 224, 3) and return 4D tensor\n",
    "    return np.expand_dims(x, axis=0)\n",
    "\n",
    "def paths_to_tensor(img_paths):\n",
    "    list_of_tensors = [path_to_tensor(img_path) for img_path in tqdm(img_paths)]\n",
    "    return np.vstack(list_of_tensors)"
   ]
  },
  {
   "cell_type": "code",
   "execution_count": 14,
   "metadata": {},
   "outputs": [
    {
     "name": "stderr",
     "output_type": "stream",
     "text": [
      "100%|██████████| 3801/3801 [01:28<00:00, 43.01it/s]\n",
      "100%|██████████| 949/949 [00:20<00:00, 47.06it/s]\n"
     ]
    }
   ],
   "source": [
    "ImageFile.LOAD_TRUNCATED_IMAGES = True                 \n",
    "# pre-process the data for Keras\n",
    "train_tensors = paths_to_tensor(train_files).astype('float32')/255\n",
    "valid_tensors = paths_to_tensor(valid_files).astype('float32')/255"
   ]
  },
  {
   "cell_type": "markdown",
   "metadata": {},
   "source": [
    "### Model Architecture"
   ]
  },
  {
   "cell_type": "code",
   "execution_count": 5,
   "metadata": {},
   "outputs": [
    {
     "name": "stdout",
     "output_type": "stream",
     "text": [
      "_________________________________________________________________\n",
      "Layer (type)                 Output Shape              Param #   \n",
      "=================================================================\n",
      "conv2d_1 (Conv2D)            (None, 224, 224, 10)      280       \n",
      "_________________________________________________________________\n",
      "max_pooling2d_1 (MaxPooling2 (None, 74, 74, 10)        0         \n",
      "_________________________________________________________________\n",
      "conv2d_2 (Conv2D)            (None, 74, 74, 30)        2730      \n",
      "_________________________________________________________________\n",
      "max_pooling2d_2 (MaxPooling2 (None, 24, 24, 30)        0         \n",
      "_________________________________________________________________\n",
      "conv2d_3 (Conv2D)            (None, 24, 24, 60)        16260     \n",
      "_________________________________________________________________\n",
      "max_pooling2d_3 (MaxPooling2 (None, 8, 8, 60)          0         \n",
      "_________________________________________________________________\n",
      "flatten_1 (Flatten)          (None, 3840)              0         \n",
      "_________________________________________________________________\n",
      "dense_1 (Dense)              (None, 500)               1920500   \n",
      "_________________________________________________________________\n",
      "dropout_1 (Dropout)          (None, 500)               0         \n",
      "_________________________________________________________________\n",
      "dense_2 (Dense)              (None, 12)                6012      \n",
      "=================================================================\n",
      "Total params: 1,945,782\n",
      "Trainable params: 1,945,782\n",
      "Non-trainable params: 0\n",
      "_________________________________________________________________\n"
     ]
    }
   ],
   "source": [
    "# weights.best.hdf5\n",
    "from keras.layers import Conv2D, MaxPooling2D, GlobalAveragePooling2D\n",
    "from keras.layers import Dropout, Flatten, Dense\n",
    "from keras.models import Sequential\n",
    "\n",
    "model = Sequential()\n",
    "\n",
    "model.add(Conv2D(filters=10, kernel_size=3, padding='same', activation='relu', \n",
    "                 input_shape=(224, 224, 3)))\n",
    "model.add(MaxPooling2D(pool_size=3))\n",
    "model.add(Conv2D(filters=30, kernel_size=3, padding='same', activation='relu'))\n",
    "model.add(MaxPooling2D(pool_size=3))\n",
    "model.add(Conv2D(filters=60, kernel_size=3, padding='same', activation='relu'))\n",
    "model.add(MaxPooling2D(pool_size=3))\n",
    "\n",
    "model.add(Flatten())\n",
    "model.add(Dense(500, activation='relu'))\n",
    "model.add(Dropout(0.3))\n",
    "\n",
    "model.add(Dense(12, activation='softmax'))\n",
    "\n",
    "model.summary()"
   ]
  },
  {
   "cell_type": "code",
   "execution_count": 6,
   "metadata": {},
   "outputs": [],
   "source": [
    "from sklearn.metrics import f1_score\n",
    "model.compile(optimizer='rmsprop', loss='categorical_crossentropy', metrics=['accuracy'])\n"
   ]
  },
  {
   "cell_type": "markdown",
   "metadata": {},
   "source": [
    "### Train model"
   ]
  },
  {
   "cell_type": "code",
   "execution_count": 17,
   "metadata": {},
   "outputs": [
    {
     "name": "stdout",
     "output_type": "stream",
     "text": [
      "Train on 3801 samples, validate on 949 samples\n",
      "Epoch 1/10\n",
      "3800/3801 [============================>.] - ETA: 0s - loss: 1.9856 - acc: 0.3166Epoch 00001: val_loss improved from inf to 3.46523, saving model to saved_models/weights.best.hdf5\n",
      "3801/3801 [==============================] - 13s 4ms/step - loss: 1.9856 - acc: 0.3165 - val_loss: 3.4652 - val_acc: 0.1992\n",
      "Epoch 2/10\n",
      "3780/3801 [============================>.] - ETA: 0s - loss: 1.2747 - acc: 0.5717Epoch 00002: val_loss improved from 3.46523 to 1.43574, saving model to saved_models/weights.best.hdf5\n",
      "3801/3801 [==============================] - 9s 2ms/step - loss: 1.2709 - acc: 0.5735 - val_loss: 1.4357 - val_acc: 0.5332\n",
      "Epoch 3/10\n",
      "3780/3801 [============================>.] - ETA: 0s - loss: 0.9861 - acc: 0.6661Epoch 00003: val_loss improved from 1.43574 to 1.12576, saving model to saved_models/weights.best.hdf5\n",
      "3801/3801 [==============================] - 9s 2ms/step - loss: 0.9832 - acc: 0.6672 - val_loss: 1.1258 - val_acc: 0.6554\n",
      "Epoch 4/10\n",
      "3780/3801 [============================>.] - ETA: 0s - loss: 0.8086 - acc: 0.7270Epoch 00004: val_loss did not improve\n",
      "3801/3801 [==============================] - 9s 2ms/step - loss: 0.8070 - acc: 0.7280 - val_loss: 1.1506 - val_acc: 0.6596\n",
      "Epoch 5/10\n",
      "3780/3801 [============================>.] - ETA: 0s - loss: 0.6631 - acc: 0.7778Epoch 00005: val_loss improved from 1.12576 to 0.83698, saving model to saved_models/weights.best.hdf5\n",
      "3801/3801 [==============================] - 9s 2ms/step - loss: 0.6624 - acc: 0.7780 - val_loss: 0.8370 - val_acc: 0.7345\n",
      "Epoch 6/10\n",
      "3780/3801 [============================>.] - ETA: 0s - loss: 0.5315 - acc: 0.8254Epoch 00006: val_loss improved from 0.83698 to 0.68754, saving model to saved_models/weights.best.hdf5\n",
      "3801/3801 [==============================] - 9s 2ms/step - loss: 0.5316 - acc: 0.8253 - val_loss: 0.6875 - val_acc: 0.7808\n",
      "Epoch 7/10\n",
      "3780/3801 [============================>.] - ETA: 0s - loss: 0.4477 - acc: 0.8481Epoch 00007: val_loss did not improve\n",
      "3801/3801 [==============================] - 9s 2ms/step - loss: 0.4463 - acc: 0.8485 - val_loss: 0.7629 - val_acc: 0.7871\n",
      "Epoch 8/10\n",
      "3780/3801 [============================>.] - ETA: 0s - loss: 0.3699 - acc: 0.8696Epoch 00008: val_loss did not improve\n",
      "3801/3801 [==============================] - 9s 2ms/step - loss: 0.3695 - acc: 0.8698 - val_loss: 0.7054 - val_acc: 0.7956\n",
      "Epoch 9/10\n",
      "3780/3801 [============================>.] - ETA: 0s - loss: 0.2969 - acc: 0.8997Epoch 00009: val_loss did not improve\n",
      "3801/3801 [==============================] - 9s 2ms/step - loss: 0.2964 - acc: 0.8995 - val_loss: 0.8614 - val_acc: 0.7503\n",
      "Epoch 10/10\n",
      "3780/3801 [============================>.] - ETA: 0s - loss: 0.2595 - acc: 0.9135Epoch 00010: val_loss did not improve\n",
      "3801/3801 [==============================] - 9s 2ms/step - loss: 0.2593 - acc: 0.9134 - val_loss: 0.7220 - val_acc: 0.8008\n"
     ]
    },
    {
     "data": {
      "text/plain": [
       "<keras.callbacks.History at 0x7fce95c5d080>"
      ]
     },
     "execution_count": 17,
     "metadata": {},
     "output_type": "execute_result"
    }
   ],
   "source": [
    "from keras.callbacks import ModelCheckpoint  \n",
    "\n",
    "epochs = 10\n",
    "\n",
    "# defines model checkpoint\n",
    "checkpointer = ModelCheckpoint(filepath='saved_models/weights.best.hdf5', \n",
    "                               verbose=1, save_best_only=True)\n",
    "\n",
    "model.fit(train_tensors, train_targets, \n",
    "          validation_data=(valid_tensors, valid_targets),\n",
    "          epochs=epochs, batch_size=20, callbacks=[checkpointer], verbose=1)"
   ]
  },
  {
   "cell_type": "code",
   "execution_count": 8,
   "metadata": {},
   "outputs": [
    {
     "name": "stdout",
     "output_type": "stream",
     "text": [
      "validation accuracy: 78.0822%, f1 score: 0.7808\n"
     ]
    }
   ],
   "source": [
    "from sklearn.metrics import f1_score\n",
    "model.load_weights('saved_models/weights.best.hdf5')\n",
    "plant_predictions = [np.argmax(model.predict(np.expand_dims(tensor, axis=0))) for tensor in valid_tensors]\n",
    "\n",
    "# report accuracy and f1 score of the validation data\n",
    "validation_accuracy = 100*np.sum(np.array(plant_predictions)==np.argmax(valid_targets, axis=1))/len(plant_predictions)\n",
    "f1_test = f1_score(np.argmax(valid_targets, axis=1), np.array(plant_predictions), average='micro')\n",
    "print('validation accuracy: %.4f%%, f1 score: %.4f' % (validation_accuracy, f1_test))"
   ]
  },
  {
   "cell_type": "markdown",
   "metadata": {},
   "source": [
    "### Visual representation of the predicted result for the validation dataset"
   ]
  },
  {
   "cell_type": "code",
   "execution_count": 1,
   "metadata": {},
   "outputs": [],
   "source": [
    "from matplotlib import pyplot as plt\n",
    "%matplotlib inline"
   ]
  },
  {
   "cell_type": "code",
   "execution_count": 16,
   "metadata": {},
   "outputs": [],
   "source": [
    "from collections import Counter\n",
    "count = Counter(plant_predictions)\n",
    "breed_count = {}\n",
    "for i in range(len(plant_names)):\n",
    "    breed_count[plant_names[i]] = count[i]"
   ]
  },
  {
   "cell_type": "code",
   "execution_count": 18,
   "metadata": {},
   "outputs": [
    {
     "data": {
      "text/plain": [
       "{'Black-grass': 29,\n",
       " 'Charlock': 76,\n",
       " 'Cleavers': 63,\n",
       " 'Common Chickweed': 143,\n",
       " 'Common wheat': 42,\n",
       " 'Fat Hen': 89,\n",
       " 'Loose Silky-bent': 162,\n",
       " 'Maize': 38,\n",
       " 'Scentless Mayweed': 99,\n",
       " 'Shepherds Purse': 64,\n",
       " 'Small-flowered Cranesbill': 75,\n",
       " 'Sugar beet': 69}"
      ]
     },
     "execution_count": 18,
     "metadata": {},
     "output_type": "execute_result"
    }
   ],
   "source": [
    "breed_count"
   ]
  },
  {
   "cell_type": "code",
   "execution_count": 19,
   "metadata": {},
   "outputs": [
    {
     "data": {
      "text/plain": [
       "([0, 1, 2, 3, 4, 5, 6, 7, 8, 9, 10, 11],\n",
       " <a list of 12 Text xticklabel objects>)"
      ]
     },
     "execution_count": 19,
     "metadata": {},
     "output_type": "execute_result"
    },
    {
     "data": {
      "image/png": "[encoded data removed]",
      "text/plain": [
       "<matplotlib.figure.Figure at 0x7f7e3c4f7080>"
      ]
     },
     "metadata": {},
     "output_type": "display_data"
    }
   ],
   "source": [
    "plt.bar(breed_count.keys(), breed_count.values())\n",
    "plt.xticks(rotation=90)"
   ]
  },
  {
   "cell_type": "code",
   "execution_count": null,
   "metadata": {},
   "outputs": [],
   "source": []
  },
  {
   "cell_type": "code",
   "execution_count": null,
   "metadata": {},
   "outputs": [],
   "source": []
  }
 ],
 "metadata": {
  "kernelspec": {
   "display_name": "Python 3",
   "language": "python",
   "name": "python3"
  },
  "language_info": {
   "codemirror_mode": {
    "name": "ipython",
    "version": 3
   },
   "file_extension": ".py",
   "mimetype": "text/x-python",
   "name": "python",
   "nbconvert_exporter": "python",
   "pygments_lexer": "ipython3",
   "version": "3.5.2"
  }
 },
 "nbformat": 4,
 "nbformat_minor": 2
}
